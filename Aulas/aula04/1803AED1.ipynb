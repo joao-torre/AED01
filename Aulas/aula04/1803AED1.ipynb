{
 "cells": [
  {
   "cell_type": "code",
   "execution_count": 1,
   "id": "63d1144b-5e44-4d0d-a80b-696f4e7188ba",
   "metadata": {},
   "outputs": [
    {
     "name": "stdout",
     "output_type": "stream",
     "text": [
      "hello, world\n"
     ]
    }
   ],
   "source": [
    "print (\"hello, world\")\n"
   ]
  },
  {
   "cell_type": "code",
   "execution_count": 5,
   "id": "f6ed22b3-c1b6-4e18-93a2-e1978dd859d6",
   "metadata": {},
   "outputs": [],
   "source": [
    "sal = 10000\n"
   ]
  },
  {
   "cell_type": "code",
   "execution_count": 7,
   "id": "8896ad58-5288-4279-9abc-8f6f309e1dbc",
   "metadata": {},
   "outputs": [],
   "source": [
    "aumento = sal * 0.153"
   ]
  },
  {
   "cell_type": "code",
   "execution_count": 11,
   "id": "b78de400-59b8-4832-9664-0c27c5558884",
   "metadata": {},
   "outputs": [],
   "source": [
    "novo_sal = sal + aumento"
   ]
  },
  {
   "cell_type": "code",
   "execution_count": 20,
   "id": "68b3ed38-cdb4-49a9-81d8-0573d456e07f",
   "metadata": {},
   "outputs": [
    {
     "name": "stdout",
     "output_type": "stream",
     "text": [
      "11530.0\n"
     ]
    }
   ],
   "source": [
    "print (novo_sal)"
   ]
  },
  {
   "cell_type": "code",
   "execution_count": 22,
   "id": "ab9f0f79-93cd-4756-8fb7-a58387f992f7",
   "metadata": {},
   "outputs": [],
   "source": [
    "# HashTag é usado para comentar em uma linha\n"
   ]
  },
  {
   "cell_type": "code",
   "execution_count": 24,
   "id": "75ca1b94-8bf4-4ad4-8db4-b5133419408d",
   "metadata": {},
   "outputs": [
    {
     "data": {
      "text/plain": [
       "'Usado para comentar em mais de uma linha'"
      ]
     },
     "execution_count": 24,
     "metadata": {},
     "output_type": "execute_result"
    }
   ],
   "source": [
    "\"\"\"Usado para comentar em mais de uma linha\"\"\""
   ]
  },
  {
   "cell_type": "code",
   "execution_count": null,
   "id": "2d0a3343-b54a-44eb-89b0-1cd8ad00cf40",
   "metadata": {},
   "outputs": [],
   "source": [
    "y = (1*x + 3*b) / (2*x + c)\n"
   ]
  }
 ],
 "metadata": {
  "kernelspec": {
   "display_name": "Python [conda env:base] *",
   "language": "python",
   "name": "conda-base-py"
  },
  "language_info": {
   "codemirror_mode": {
    "name": "ipython",
    "version": 3
   },
   "file_extension": ".py",
   "mimetype": "text/x-python",
   "name": "python",
   "nbconvert_exporter": "python",
   "pygments_lexer": "ipython3",
   "version": "3.12.7"
  }
 },
 "nbformat": 4,
 "nbformat_minor": 5
}
