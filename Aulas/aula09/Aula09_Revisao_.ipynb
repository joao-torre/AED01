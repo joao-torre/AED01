{
 "cells": [
  {
   "cell_type": "markdown",
   "metadata": {},
   "source": [
    "![Algoritmos e Estrutura de Dados I](AED1_banner.jpg)"
   ]
  },
  {
   "cell_type": "markdown",
   "metadata": {},
   "source": [
    "## <font color='blue'>Algoritmos e Estrutura de Dados I</font>\n",
    "## <font color='blue'>Aula 9 -  Revisão</font>"
   ]
  },
  {
   "cell_type": "code",
   "execution_count": null,
   "metadata": {},
   "outputs": [],
   "source": [
    "# Versão da Linguagem Python\n",
    "from platform import python_version\n",
    "print('Versão da Linguagem Python Usada Neste Jupyter Notebook:', python_version())"
   ]
  },
  {
   "cell_type": "markdown",
   "metadata": {},
   "source": [
    "## Estrutura sequencial"
   ]
  },
  {
   "cell_type": "markdown",
   "metadata": {},
   "source": [
    "Escreva um programa em Python que solicite ao usuário o valor de dois números, calcule e exiba a soma deles."
   ]
  },
  {
   "cell_type": "code",
   "execution_count": null,
   "metadata": {},
   "outputs": [],
   "source": [
    "numero = int(input(\"Digite um número inteiro positivo: \"))\n",
    "\n",
    "# Verifica se é positivo\n",
    "if numero < 0:\n",
    "    print(\"O número deve ser positivo.\")\n",
    "else:\n",
    "    fatorial = 1\n",
    "    for i in range(1, numero + 1):\n",
    "        fatorial *= i\n",
    "    print(f\"O fatorial de {numero} é {fatorial}\")\n",
    "\n"
   ]
  },
  {
   "attachments": {},
   "cell_type": "markdown",
   "metadata": {},
   "source": [
    "Escreva um programa em Python que solicite ao usuário a temperatura em graus Celsius e converta para Fahrenheit. A fórmula para conversão é F = C * 9/5 + 32.\n"
   ]
  },
  {
   "cell_type": "code",
   "execution_count": null,
   "metadata": {},
   "outputs": [],
   "source": [
    "quantidade = int(input(\"Digite o número de estudantes: \"))\n",
    "\n",
    "# Inicialização de variáveis\n",
    "soma = 0\n",
    "maior = -1\n",
    "menor = 11\n",
    "aprovados = 0\n",
    "reprovados = 0\n",
    "\n",
    "# Coleta das notas\n",
    "for i in range(quantidade):\n",
    "    nota = float(input(f\"Digite a nota do estudante {i+1}: \"))\n",
    "    soma += nota\n",
    "    \n",
    "    if nota > maior:\n",
    "        maior = nota\n",
    "    if nota < menor:\n",
    "        menor = nota\n",
    "\n",
    "    if nota >= 6:\n",
    "        aprovados += 1\n",
    "    else:\n",
    "        reprovados += 1\n",
    "\n",
    "# Cálculo da média\n",
    "media = soma / quantidade\n",
    "\n",
    "# Resultados\n",
    "print(f\"Média das notas: {media:.2f}\")\n",
    "print(f\"Maior nota: {maior}\")\n",
    "print(f\"Menor nota: {menor}\")\n",
    "print(f\"Estudantes aprovados: {aprovados}\")\n",
    "print(f\"Estudantes reprovados: {reprovados}\")\n"
   ]
  },
  {
   "cell_type": "markdown",
   "metadata": {},
   "source": [
    "## Estrutura Condicional"
   ]
  },
  {
   "cell_type": "markdown",
   "metadata": {},
   "source": [
    "Escreva um programa em Python que solicite ao usuário um número e verifique se ele é positivo, negativo ou zero. Exiba a mensagem correspondente.\n"
   ]
  },
  {
   "cell_type": "code",
   "execution_count": null,
   "metadata": {},
   "outputs": [],
   "source": [
    "numero = int(input(\"Digite um número inteiro positivo: \"))\n",
    "\n",
    "if numero < 0:\n",
    "    print(\"O número deve ser positivo.\")\n",
    "else:\n",
    "    binario = bin(numero)[2:]  # remove o prefixo '0b'\n",
    "    print(f\"O número {numero} em binário é: {binario}\")\n"
   ]
  },
  {
   "cell_type": "markdown",
   "metadata": {},
   "source": [
    "Escreva um programa em Python que solicite ao usuário três números e determine qual é o maior entre eles.\n"
   ]
  },
  {
   "cell_type": "code",
   "execution_count": null,
   "metadata": {},
   "outputs": [],
   "source": [
    "num1 = float(input(\"Digite o primeiro número: \"))\n",
    "num2 = float(input(\"Digite o segundo número: \"))\n",
    "num3 = float(input(\"Digite o terceiro número: \"))\n",
    "\n",
    "maior = num1\n",
    "if num2 > maior:\n",
    "    maior = num2\n",
    "if num3 > maior:\n",
    "    maior = num3\n",
    "\n",
    "print(f\"O maior número é: {maior}\")\n"
   ]
  },
  {
   "cell_type": "markdown",
   "metadata": {},
   "source": [
    "## Estrutura de Repetição"
   ]
  },
  {
   "cell_type": "markdown",
   "metadata": {},
   "source": [
    "Escreva um programa em Python que exiba todos os números de 1 a 10.\n"
   ]
  },
  {
   "cell_type": "code",
   "execution_count": null,
   "metadata": {},
   "outputs": [],
   "source": [
    "print(\"Números de 1 a 10:\")\n",
    "for i in range(1, 11):\n",
    "    print(i)\n",
    "\n"
   ]
  },
  {
   "cell_type": "markdown",
   "metadata": {},
   "source": [
    "Escreva um programa em Python que solicite ao usuário um número inteiro positivo e calcule o fatorial desse número.\n"
   ]
  },
  {
   "cell_type": "code",
   "execution_count": null,
   "metadata": {},
   "outputs": [],
   "source": [
    "numero = int(input(\"Digite um número inteiro positivo: \"))\n",
    "\n",
    "if numero < 0:\n",
    "    print(\"Número inválido. Por favor, digite um número positivo.\")\n",
    "else:\n",
    "    fatorial = 1\n",
    "    for i in range(1, numero + 1):\n",
    "        fatorial *= i\n",
    "    print(f\"O fatorial de {numero} é: {fatorial}\")\n",
    "\n"
   ]
  },
  {
   "cell_type": "markdown",
   "metadata": {},
   "source": [
    "## Geral"
   ]
  },
  {
   "cell_type": "markdown",
   "metadata": {},
   "source": [
    "Você é um cientista de dados e precisa analisar as notas de um conjunto de estudantes em uma disciplina. Você deverá escrever um programa em Python que solicite ao usuário o número de estudantes e, em seguida, as notas desses estudantes. O programa deve calcular e exibir:\n",
    "\n",
    "- A média das notas.\n",
    "- A maior e a menor nota.\n",
    "- O número de estudantes aprovados (nota maior ou igual a 6) e reprovados (nota menor que 6).\n",
    "\n",
    "Regras:\n",
    "\n",
    "- Utilize variáveis simples para armazenar as informações.\n",
    "- Utilize estruturas de repetição para coletar as notas dos estudantes.\n",
    "- Utilize estruturas condicionais para determinar o status de aprovação dos estudantes."
   ]
  },
  {
   "cell_type": "code",
   "execution_count": null,
   "metadata": {},
   "outputs": [],
   "source": [
    "quantidade = int(input(\"Digite o número de estudantes: \"))\n",
    "\n",
    "soma = 0\n",
    "maior = -1\n",
    "menor = 11\n",
    "aprovados = 0\n",
    "reprovados = 0\n",
    "\n",
    "for i in range(quantidade):\n",
    "    nota = float(input(f\"Digite a nota do estudante {i+1}: \"))\n",
    "    soma += nota\n",
    "\n",
    "    if nota > maior:\n",
    "        maior = nota\n",
    "    if nota < menor:\n",
    "        menor = nota\n",
    "\n",
    "    if nota >= 6:\n",
    "        aprovados += 1\n",
    "    else:\n",
    "        reprovados += 1\n",
    "\n",
    "media = soma / quantidade\n",
    "\n",
    "print(\"\\nResultados da Análise:\")\n",
    "print(f\"Média das notas: {media:.2f}\")\n",
    "print(f\"Maior nota: {maior}\")\n",
    "print(f\"Menor nota: {menor}\")\n",
    "print(f\"Estudantes aprovados: {aprovados}\")\n",
    "print(f\"Estudantes reprovados: {reprovados}\")\n",
    "\n"
   ]
  },
  {
   "cell_type": "markdown",
   "metadata": {},
   "source": [
    "Faça um programa que receba um número inteiro positivo e transforme esse número para binário."
   ]
  },
  {
   "cell_type": "code",
   "execution_count": null,
   "metadata": {},
   "outputs": [],
   "source": [
    "numero = int(input(\"Digite um número inteiro positivo: \"))\n",
    "\n",
    "if numero < 0:\n",
    "    print(\"Número inválido. Digite um número positivo.\")\n",
    "else:\n",
    "    binario = bin(numero)[2:]  \n",
    "    print(f\"O número {numero} em binário é: {binario}\")\n"
   ]
  },
  {
   "cell_type": "markdown",
   "metadata": {},
   "source": [
    "## Fim da Aula 9"
   ]
  }
 ],
 "metadata": {
  "kernelspec": {
   "display_name": "Python [conda env:base] *",
   "language": "python",
   "name": "conda-base-py"
  },
  "language_info": {
   "codemirror_mode": {
    "name": "ipython",
    "version": 3
   },
   "file_extension": ".py",
   "mimetype": "text/x-python",
   "name": "python",
   "nbconvert_exporter": "python",
   "pygments_lexer": "ipython3",
   "version": "3.12.7"
  }
 },
 "nbformat": 4,
 "nbformat_minor": 4
}
