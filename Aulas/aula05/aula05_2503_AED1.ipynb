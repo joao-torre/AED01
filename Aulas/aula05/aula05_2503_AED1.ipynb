{
 "cells": [
  {
   "cell_type": "markdown",
   "id": "77d71f7d-555e-4738-8f09-796e9d51929b",
   "metadata": {},
   "source": [
    "# Tipo Inteiro "
   ]
  },
  {
   "cell_type": "code",
   "execution_count": 4,
   "id": "cccb8c63-af2a-422d-948d-9ab0da3f57e2",
   "metadata": {},
   "outputs": [
    {
     "data": {
      "text/plain": [
       "10"
      ]
     },
     "execution_count": 4,
     "metadata": {},
     "output_type": "execute_result"
    }
   ],
   "source": [
    "10 "
   ]
  },
  {
   "cell_type": "code",
   "execution_count": 6,
   "id": "54243d8b-e7ce-42d9-9324-97f693a6fd0d",
   "metadata": {},
   "outputs": [],
   "source": [
    "num = 10"
   ]
  },
  {
   "cell_type": "code",
   "execution_count": 8,
   "id": "87175d39-bdc8-459e-b195-3b9ebaa0e0d6",
   "metadata": {},
   "outputs": [
    {
     "data": {
      "text/plain": [
       "10"
      ]
     },
     "execution_count": 8,
     "metadata": {},
     "output_type": "execute_result"
    }
   ],
   "source": [
    "num"
   ]
  },
  {
   "cell_type": "code",
   "execution_count": 12,
   "id": "073aa209-285c-45b2-b9f6-73e43f9d5058",
   "metadata": {},
   "outputs": [
    {
     "data": {
      "text/plain": [
       "int"
      ]
     },
     "execution_count": 12,
     "metadata": {},
     "output_type": "execute_result"
    }
   ],
   "source": [
    "type (num)"
   ]
  },
  {
   "cell_type": "code",
   "execution_count": 14,
   "id": "73673659-0554-42b2-a9c9-1129933e3916",
   "metadata": {},
   "outputs": [
    {
     "data": {
      "text/plain": [
       "30"
      ]
     },
     "execution_count": 14,
     "metadata": {},
     "output_type": "execute_result"
    }
   ],
   "source": [
    "10+20"
   ]
  },
  {
   "cell_type": "code",
   "execution_count": 16,
   "id": "e9fc1546-7de1-4f67-8a71-39477d92eaee",
   "metadata": {},
   "outputs": [
    {
     "data": {
      "text/plain": [
       "3.5"
      ]
     },
     "execution_count": 16,
     "metadata": {},
     "output_type": "execute_result"
    }
   ],
   "source": [
    "7/2"
   ]
  },
  {
   "cell_type": "code",
   "execution_count": 18,
   "id": "efcfad31-4489-446c-8637-1d7cfcef7074",
   "metadata": {},
   "outputs": [],
   "source": [
    "num = 20"
   ]
  },
  {
   "cell_type": "code",
   "execution_count": 20,
   "id": "bac77c2d-5a02-4e60-b419-8e7e3396bf03",
   "metadata": {},
   "outputs": [
    {
     "data": {
      "text/plain": [
       "20"
      ]
     },
     "execution_count": 20,
     "metadata": {},
     "output_type": "execute_result"
    }
   ],
   "source": [
    "num"
   ]
  },
  {
   "cell_type": "code",
   "execution_count": 22,
   "id": "5ad6bcd8-8127-45ec-b4ed-69e6460d8b43",
   "metadata": {},
   "outputs": [],
   "source": [
    "x = 5"
   ]
  },
  {
   "cell_type": "code",
   "execution_count": 24,
   "id": "3b1119a1-bdf9-4334-ba38-bf549ee6608b",
   "metadata": {},
   "outputs": [
    {
     "data": {
      "text/plain": [
       "5"
      ]
     },
     "execution_count": 24,
     "metadata": {},
     "output_type": "execute_result"
    }
   ],
   "source": [
    "x"
   ]
  },
  {
   "cell_type": "code",
   "execution_count": 26,
   "id": "8f4d096e-fae8-454c-98fd-dea8971dcb6b",
   "metadata": {},
   "outputs": [
    {
     "data": {
      "text/plain": [
       "25"
      ]
     },
     "execution_count": 26,
     "metadata": {},
     "output_type": "execute_result"
    }
   ],
   "source": [
    "num+x"
   ]
  },
  {
   "cell_type": "code",
   "execution_count": 28,
   "id": "efd2e6d3-e35e-42b8-9da5-8f3a9731cf1f",
   "metadata": {},
   "outputs": [],
   "source": [
    "soma = num + x"
   ]
  },
  {
   "cell_type": "code",
   "execution_count": 31,
   "id": "16ae8170-bd55-452b-a6a1-5360a2130950",
   "metadata": {},
   "outputs": [
    {
     "data": {
      "text/plain": [
       "25"
      ]
     },
     "execution_count": 31,
     "metadata": {},
     "output_type": "execute_result"
    }
   ],
   "source": [
    "soma"
   ]
  },
  {
   "cell_type": "code",
   "execution_count": 33,
   "id": "307af908-8359-4f52-9f05-adae2f06ed41",
   "metadata": {},
   "outputs": [],
   "source": [
    "mult = num * x"
   ]
  },
  {
   "cell_type": "code",
   "execution_count": 35,
   "id": "51f9b847-3e9c-4990-9858-ee02be35bf5c",
   "metadata": {},
   "outputs": [
    {
     "data": {
      "text/plain": [
       "100"
      ]
     },
     "execution_count": 35,
     "metadata": {},
     "output_type": "execute_result"
    }
   ],
   "source": [
    "mult"
   ]
  },
  {
   "cell_type": "code",
   "execution_count": 39,
   "id": "77a556b8-30b5-449e-869b-133fc2bca473",
   "metadata": {},
   "outputs": [
    {
     "data": {
      "text/plain": [
       "107150860718626732094842504906000181056140481170553360744375038837035105112493612249319837881569585812759467291755314682518714528569231404359845775746985748039345677748242309854210746050623711418779541821530464749835819412673987675591655439460770629145711964776865421676604298316526243868372056680693760000000000000000000000000000000000000000000000000000000000000000000000000000000000000000000000000000000000000000000000000000000000000000000000000000000000000000000000000000000000000000000000000000000000000000000000000000000000000000000000000000000000000000000000000000000000000000000000000000000000000000000000000000000000000000000000000000000000000000000000000000000000000000000000000000000000000000000000000000000000000000000000000000000000000000000000000000000000000000000000000000000000000000000000000000000000000000000000000000000000000000000000000000000000000000000000000000000000000000000000000000000000000000000000000000000000000000000000000000000000000000000000000000000000000000000000000000000000000000000000000000000000000000000000000000000000000000000000000000000000000000000000000000000000000000000000000000000000000000000000000000000000000000000000000000000000000000000000000000000000000000000000000000000000000000000000000000000000000000000000000000000000000000000000000000000000000000"
      ]
     },
     "execution_count": 39,
     "metadata": {},
     "output_type": "execute_result"
    }
   ],
   "source": [
    "20**1000"
   ]
  },
  {
   "cell_type": "code",
   "execution_count": 41,
   "id": "80ae68d2-f8b7-455b-9a0f-3155154dfeaa",
   "metadata": {},
   "outputs": [],
   "source": [
    "x = num - 30"
   ]
  },
  {
   "cell_type": "code",
   "execution_count": 43,
   "id": "0789715e-08e6-42c5-84c5-fa061246adcb",
   "metadata": {},
   "outputs": [
    {
     "data": {
      "text/plain": [
       "-10"
      ]
     },
     "execution_count": 43,
     "metadata": {},
     "output_type": "execute_result"
    }
   ],
   "source": [
    "x"
   ]
  },
  {
   "cell_type": "code",
   "execution_count": 45,
   "id": "5dbae411-97ec-4e7e-bddb-d584d2dc9861",
   "metadata": {},
   "outputs": [
    {
     "data": {
      "text/plain": [
       "3.5"
      ]
     },
     "execution_count": 45,
     "metadata": {},
     "output_type": "execute_result"
    }
   ],
   "source": [
    "7/2"
   ]
  },
  {
   "cell_type": "code",
   "execution_count": 49,
   "id": "48e1b05d-13ea-41d6-a729-52bfa1b4508e",
   "metadata": {},
   "outputs": [
    {
     "data": {
      "text/plain": [
       "3"
      ]
     },
     "execution_count": 49,
     "metadata": {},
     "output_type": "execute_result"
    }
   ],
   "source": [
    "7//2"
   ]
  },
  {
   "cell_type": "code",
   "execution_count": 51,
   "id": "db56ca40-0f8b-4199-bd25-156ae99b5d34",
   "metadata": {},
   "outputs": [
    {
     "data": {
      "text/plain": [
       "1"
      ]
     },
     "execution_count": 51,
     "metadata": {},
     "output_type": "execute_result"
    }
   ],
   "source": [
    "7%2"
   ]
  },
  {
   "cell_type": "code",
   "execution_count": 53,
   "id": "df5419a7-a696-410f-a98f-37cb09d2ad01",
   "metadata": {},
   "outputs": [],
   "source": [
    "num = x + 3"
   ]
  },
  {
   "cell_type": "code",
   "execution_count": 55,
   "id": "f6e0c2a9-85ed-455c-a26d-aa9df0645069",
   "metadata": {},
   "outputs": [
    {
     "data": {
      "text/plain": [
       "-7"
      ]
     },
     "execution_count": 55,
     "metadata": {},
     "output_type": "execute_result"
    }
   ],
   "source": [
    "num"
   ]
  },
  {
   "cell_type": "code",
   "execution_count": 57,
   "id": "86b438c6-8100-4f04-b0ef-bb1627ff9216",
   "metadata": {},
   "outputs": [],
   "source": [
    "num = num + 20"
   ]
  },
  {
   "cell_type": "code",
   "execution_count": 59,
   "id": "2c0620ba-7961-43f3-ac62-ab34ea1d0a10",
   "metadata": {},
   "outputs": [
    {
     "data": {
      "text/plain": [
       "13"
      ]
     },
     "execution_count": 59,
     "metadata": {},
     "output_type": "execute_result"
    }
   ],
   "source": [
    "num"
   ]
  },
  {
   "cell_type": "code",
   "execution_count": 61,
   "id": "82806255-7d2f-4f81-830a-dde9c6ec45fd",
   "metadata": {},
   "outputs": [],
   "source": [
    "num += 20"
   ]
  },
  {
   "cell_type": "code",
   "execution_count": 63,
   "id": "179f5a8d-1cf3-472d-9849-b7f510cc2f88",
   "metadata": {},
   "outputs": [
    {
     "data": {
      "text/plain": [
       "33"
      ]
     },
     "execution_count": 63,
     "metadata": {},
     "output_type": "execute_result"
    }
   ],
   "source": [
    "num"
   ]
  },
  {
   "cell_type": "code",
   "execution_count": 70,
   "id": "1222c5ec-f6be-4fd4-b5c0-3caad17719d4",
   "metadata": {},
   "outputs": [
    {
     "name": "stdout",
     "output_type": "stream",
     "text": [
      "-7\n"
     ]
    }
   ],
   "source": [
    "num -= 20\n",
    "print(num)"
   ]
  },
  {
   "cell_type": "code",
   "execution_count": 72,
   "id": "eeb46be4-4643-48eb-b6ae-802881b90ba9",
   "metadata": {},
   "outputs": [
    {
     "data": {
      "text/plain": [
       "-14"
      ]
     },
     "execution_count": 72,
     "metadata": {},
     "output_type": "execute_result"
    }
   ],
   "source": [
    "num * 2"
   ]
  },
  {
   "cell_type": "code",
   "execution_count": 77,
   "id": "4efc27e1-ed1e-4034-a9cd-33dedba68b1f",
   "metadata": {},
   "outputs": [
    {
     "name": "stdout",
     "output_type": "stream",
     "text": [
      "-0.04142011834319526\n"
     ]
    }
   ],
   "source": [
    "num /= 13\n",
    "print(num)"
   ]
  },
  {
   "cell_type": "code",
   "execution_count": 79,
   "id": "352622ff-4dd2-4ebe-821c-e8f157d81996",
   "metadata": {},
   "outputs": [
    {
     "data": {
      "text/plain": [
       "float"
      ]
     },
     "execution_count": 79,
     "metadata": {},
     "output_type": "execute_result"
    }
   ],
   "source": [
    "type (num)"
   ]
  },
  {
   "cell_type": "markdown",
   "id": "544533d0-4fd0-40a6-a879-ea95a4f4633c",
   "metadata": {},
   "source": [
    "# Tipo Float"
   ]
  },
  {
   "cell_type": "code",
   "execution_count": 82,
   "id": "012fadd2-3f10-4305-bdb9-f7ff6e86163a",
   "metadata": {},
   "outputs": [
    {
     "data": {
      "text/plain": [
       "float"
      ]
     },
     "execution_count": 82,
     "metadata": {},
     "output_type": "execute_result"
    }
   ],
   "source": [
    "type(num)"
   ]
  },
  {
   "cell_type": "code",
   "execution_count": 84,
   "id": "f4d4897b-52a4-4f32-8848-cc65c0d3c5e0",
   "metadata": {},
   "outputs": [],
   "source": [
    "num = 2.0"
   ]
  },
  {
   "cell_type": "code",
   "execution_count": 86,
   "id": "f50bc147-abd0-40e0-bcce-edbd808a6ff1",
   "metadata": {},
   "outputs": [
    {
     "data": {
      "text/plain": [
       "2.0"
      ]
     },
     "execution_count": 86,
     "metadata": {},
     "output_type": "execute_result"
    }
   ],
   "source": [
    "num"
   ]
  },
  {
   "cell_type": "code",
   "execution_count": 88,
   "id": "d0787cb8-f511-449f-8b27-f80b12c768f2",
   "metadata": {},
   "outputs": [
    {
     "data": {
      "text/plain": [
       "float"
      ]
     },
     "execution_count": 88,
     "metadata": {},
     "output_type": "execute_result"
    }
   ],
   "source": [
    "type(num)"
   ]
  },
  {
   "cell_type": "code",
   "execution_count": 102,
   "id": "6e4f3732-176d-4e9b-b21a-6f4f3b280bd5",
   "metadata": {},
   "outputs": [],
   "source": [
    "num *= 2.2"
   ]
  },
  {
   "cell_type": "code",
   "execution_count": 106,
   "id": "86e58a53-d348-47ca-8048-3aa730080a21",
   "metadata": {},
   "outputs": [],
   "source": [
    "num = 4.4"
   ]
  },
  {
   "cell_type": "code",
   "execution_count": 108,
   "id": "e8a7632a-4f05-4ea5-a033-86f66363c0ea",
   "metadata": {},
   "outputs": [
    {
     "name": "stdout",
     "output_type": "stream",
     "text": [
      "4.4\n"
     ]
    }
   ],
   "source": [
    "print(num)"
   ]
  },
  {
   "cell_type": "markdown",
   "id": "c089062d-4e1e-468b-a003-65f86b596d46",
   "metadata": {},
   "source": [
    "# Números Complexos (Engenharia)"
   ]
  },
  {
   "cell_type": "code",
   "execution_count": 111,
   "id": "21e150f4-925c-46ca-aa5b-43a62b04d68a",
   "metadata": {},
   "outputs": [
    {
     "data": {
      "text/plain": [
       "5j"
      ]
     },
     "execution_count": 111,
     "metadata": {},
     "output_type": "execute_result"
    }
   ],
   "source": [
    "5j"
   ]
  },
  {
   "cell_type": "code",
   "execution_count": 113,
   "id": "526513b1-819b-4c42-b71a-e70d6af6c813",
   "metadata": {},
   "outputs": [],
   "source": [
    "y = 6 + 5j"
   ]
  },
  {
   "cell_type": "code",
   "execution_count": 115,
   "id": "c75f0b6a-c35e-4f23-854f-14d6ae58a5bc",
   "metadata": {},
   "outputs": [
    {
     "data": {
      "text/plain": [
       "(6+5j)"
      ]
     },
     "execution_count": 115,
     "metadata": {},
     "output_type": "execute_result"
    }
   ],
   "source": [
    "y"
   ]
  },
  {
   "cell_type": "code",
   "execution_count": 117,
   "id": "66fe86f9-5ab1-4fa0-acd0-8dc9e28d3fac",
   "metadata": {},
   "outputs": [
    {
     "data": {
      "text/plain": [
       "complex"
      ]
     },
     "execution_count": 117,
     "metadata": {},
     "output_type": "execute_result"
    }
   ],
   "source": [
    "type(y)"
   ]
  },
  {
   "cell_type": "markdown",
   "id": "3833e4fa-8f99-45e9-8eee-a1dc8b2be0ef",
   "metadata": {},
   "source": [
    "# Tipo Booleano (Bool)"
   ]
  },
  {
   "cell_type": "code",
   "execution_count": 120,
   "id": "67ddb854-2962-4d90-b12f-66f0bd11322f",
   "metadata": {},
   "outputs": [],
   "source": [
    "flag = True"
   ]
  },
  {
   "cell_type": "code",
   "execution_count": 122,
   "id": "29ece143-d729-4ed0-b179-ea8b1b9f1b94",
   "metadata": {},
   "outputs": [
    {
     "data": {
      "text/plain": [
       "True"
      ]
     },
     "execution_count": 122,
     "metadata": {},
     "output_type": "execute_result"
    }
   ],
   "source": [
    "flag"
   ]
  },
  {
   "cell_type": "code",
   "execution_count": 124,
   "id": "2ecef502-2e4b-4f3c-85da-ffa70b68e6c4",
   "metadata": {},
   "outputs": [
    {
     "data": {
      "text/plain": [
       "bool"
      ]
     },
     "execution_count": 124,
     "metadata": {},
     "output_type": "execute_result"
    }
   ],
   "source": [
    "bool"
   ]
  },
  {
   "cell_type": "code",
   "execution_count": 126,
   "id": "f51fc288-d999-4b3f-9761-0691fe5a03c0",
   "metadata": {},
   "outputs": [
    {
     "data": {
      "text/plain": [
       "bool"
      ]
     },
     "execution_count": 126,
     "metadata": {},
     "output_type": "execute_result"
    }
   ],
   "source": [
    "type(flag)"
   ]
  },
  {
   "cell_type": "code",
   "execution_count": 128,
   "id": "44a42ae9-f220-4c19-9eba-d872e66cb6bb",
   "metadata": {},
   "outputs": [
    {
     "data": {
      "text/plain": [
       "True"
      ]
     },
     "execution_count": 128,
     "metadata": {},
     "output_type": "execute_result"
    }
   ],
   "source": [
    "flag"
   ]
  },
  {
   "cell_type": "code",
   "execution_count": 130,
   "id": "46cdff27-ca2c-435b-a60f-296234f0d9e6",
   "metadata": {},
   "outputs": [
    {
     "data": {
      "text/plain": [
       "False"
      ]
     },
     "execution_count": 130,
     "metadata": {},
     "output_type": "execute_result"
    }
   ],
   "source": [
    "not flag"
   ]
  },
  {
   "cell_type": "code",
   "execution_count": 138,
   "id": "8b202ddc-91b3-4583-915c-546b783aa44e",
   "metadata": {},
   "outputs": [],
   "source": [
    "x = flag and False"
   ]
  },
  {
   "cell_type": "code",
   "execution_count": 140,
   "id": "77a0c922-368c-4283-817a-519a4539ef48",
   "metadata": {},
   "outputs": [
    {
     "data": {
      "text/plain": [
       "False"
      ]
     },
     "execution_count": 140,
     "metadata": {},
     "output_type": "execute_result"
    }
   ],
   "source": [
    "x"
   ]
  },
  {
   "cell_type": "markdown",
   "id": "4b175768-d4fa-4402-b70b-153d56370bca",
   "metadata": {},
   "source": [
    "# Tipo String"
   ]
  },
  {
   "cell_type": "code",
   "execution_count": 143,
   "id": "2060f792-f9e7-48f7-9b0d-537929a41fe6",
   "metadata": {},
   "outputs": [],
   "source": [
    "letra = \"a\""
   ]
  },
  {
   "cell_type": "code",
   "execution_count": 147,
   "id": "459f1cb9-cbca-4b06-a88d-085d3934cdd8",
   "metadata": {},
   "outputs": [
    {
     "data": {
      "text/plain": [
       "str"
      ]
     },
     "execution_count": 147,
     "metadata": {},
     "output_type": "execute_result"
    }
   ],
   "source": [
    "type(letra)"
   ]
  },
  {
   "cell_type": "code",
   "execution_count": 155,
   "id": "317a261d-0b2d-442f-a16d-0259e7bf7f9b",
   "metadata": {},
   "outputs": [],
   "source": [
    "frase = 'Vai Corinthians!'"
   ]
  },
  {
   "cell_type": "code",
   "execution_count": 157,
   "id": "07b061ef-3065-4e6d-975e-c90ef42bcc44",
   "metadata": {},
   "outputs": [
    {
     "data": {
      "text/plain": [
       "'Vai Corinthians!'"
      ]
     },
     "execution_count": 157,
     "metadata": {},
     "output_type": "execute_result"
    }
   ],
   "source": [
    "frase"
   ]
  },
  {
   "cell_type": "code",
   "execution_count": 161,
   "id": "4e3124d7-52a0-46ea-b351-ed506249ce53",
   "metadata": {},
   "outputs": [
    {
     "data": {
      "text/plain": [
       "str"
      ]
     },
     "execution_count": 161,
     "metadata": {},
     "output_type": "execute_result"
    }
   ],
   "source": [
    "type(frase)"
   ]
  },
  {
   "cell_type": "code",
   "execution_count": 163,
   "id": "c68dfaae-51cd-4558-8b8f-cf62913e3ac2",
   "metadata": {},
   "outputs": [],
   "source": [
    "palavra = \"Corinthians\""
   ]
  },
  {
   "cell_type": "code",
   "execution_count": 165,
   "id": "cc363229-423d-4f0e-a143-f6cdca7853ad",
   "metadata": {},
   "outputs": [
    {
     "data": {
      "text/plain": [
       "'Corinthians'"
      ]
     },
     "execution_count": 165,
     "metadata": {},
     "output_type": "execute_result"
    }
   ],
   "source": [
    "palavra"
   ]
  },
  {
   "cell_type": "code",
   "execution_count": 167,
   "id": "44975db5-4456-45a7-a75b-1ca9dac9c060",
   "metadata": {},
   "outputs": [
    {
     "data": {
      "text/plain": [
       "str"
      ]
     },
     "execution_count": 167,
     "metadata": {},
     "output_type": "execute_result"
    }
   ],
   "source": [
    "type(palavra)"
   ]
  },
  {
   "cell_type": "code",
   "execution_count": 169,
   "id": "06e5a315-9e8f-4e6f-8cbe-5a6cb5ee06fe",
   "metadata": {},
   "outputs": [
    {
     "data": {
      "text/plain": [
       "'C'"
      ]
     },
     "execution_count": 169,
     "metadata": {},
     "output_type": "execute_result"
    }
   ],
   "source": [
    "palavra[0]"
   ]
  },
  {
   "cell_type": "markdown",
   "id": "c2aaacf3-aaf2-4f71-a6ba-8c9e2caa236f",
   "metadata": {},
   "source": [
    "# Funções Embutidas"
   ]
  },
  {
   "cell_type": "code",
   "execution_count": 172,
   "id": "c6d5360d-6bc0-45d6-82cb-c37ac6294c84",
   "metadata": {},
   "outputs": [
    {
     "data": {
      "text/plain": [
       "34"
      ]
     },
     "execution_count": 172,
     "metadata": {},
     "output_type": "execute_result"
    }
   ],
   "source": [
    "abs(-34)"
   ]
  },
  {
   "cell_type": "code",
   "execution_count": 176,
   "id": "3be4d522-7ccf-45c7-ac05-cde760d83f08",
   "metadata": {},
   "outputs": [
    {
     "data": {
      "text/plain": [
       "'_'"
      ]
     },
     "execution_count": 176,
     "metadata": {},
     "output_type": "execute_result"
    }
   ],
   "source": [
    "chr(95)"
   ]
  },
  {
   "cell_type": "code",
   "execution_count": 178,
   "id": "c136a653-ac17-41e0-80f2-d51522fc0626",
   "metadata": {},
   "outputs": [
    {
     "data": {
      "text/plain": [
       "'A'"
      ]
     },
     "execution_count": 178,
     "metadata": {},
     "output_type": "execute_result"
    }
   ],
   "source": [
    "chr(65)"
   ]
  },
  {
   "cell_type": "code",
   "execution_count": 182,
   "id": "96efa9a0-f1d9-4ee8-b0b3-91ad138a32be",
   "metadata": {},
   "outputs": [
    {
     "data": {
      "text/plain": [
       "122"
      ]
     },
     "execution_count": 182,
     "metadata": {},
     "output_type": "execute_result"
    }
   ],
   "source": [
    "ord ('z')"
   ]
  },
  {
   "cell_type": "code",
   "execution_count": 184,
   "id": "ca1dad9e-a70f-447d-9f79-a25564b0b42d",
   "metadata": {},
   "outputs": [
    {
     "data": {
      "text/plain": [
       "'\\x00'"
      ]
     },
     "execution_count": 184,
     "metadata": {},
     "output_type": "execute_result"
    }
   ],
   "source": [
    "chr(0)"
   ]
  },
  {
   "cell_type": "code",
   "execution_count": 186,
   "id": "7197beaa-11cc-4011-9cd0-086e4df94626",
   "metadata": {},
   "outputs": [
    {
     "data": {
      "text/plain": [
       "['__add__',\n",
       " '__class__',\n",
       " '__contains__',\n",
       " '__delattr__',\n",
       " '__dir__',\n",
       " '__doc__',\n",
       " '__eq__',\n",
       " '__format__',\n",
       " '__ge__',\n",
       " '__getattribute__',\n",
       " '__getitem__',\n",
       " '__getnewargs__',\n",
       " '__getstate__',\n",
       " '__gt__',\n",
       " '__hash__',\n",
       " '__init__',\n",
       " '__init_subclass__',\n",
       " '__iter__',\n",
       " '__le__',\n",
       " '__len__',\n",
       " '__lt__',\n",
       " '__mod__',\n",
       " '__mul__',\n",
       " '__ne__',\n",
       " '__new__',\n",
       " '__reduce__',\n",
       " '__reduce_ex__',\n",
       " '__repr__',\n",
       " '__rmod__',\n",
       " '__rmul__',\n",
       " '__setattr__',\n",
       " '__sizeof__',\n",
       " '__str__',\n",
       " '__subclasshook__',\n",
       " 'capitalize',\n",
       " 'casefold',\n",
       " 'center',\n",
       " 'count',\n",
       " 'encode',\n",
       " 'endswith',\n",
       " 'expandtabs',\n",
       " 'find',\n",
       " 'format',\n",
       " 'format_map',\n",
       " 'index',\n",
       " 'isalnum',\n",
       " 'isalpha',\n",
       " 'isascii',\n",
       " 'isdecimal',\n",
       " 'isdigit',\n",
       " 'isidentifier',\n",
       " 'islower',\n",
       " 'isnumeric',\n",
       " 'isprintable',\n",
       " 'isspace',\n",
       " 'istitle',\n",
       " 'isupper',\n",
       " 'join',\n",
       " 'ljust',\n",
       " 'lower',\n",
       " 'lstrip',\n",
       " 'maketrans',\n",
       " 'partition',\n",
       " 'removeprefix',\n",
       " 'removesuffix',\n",
       " 'replace',\n",
       " 'rfind',\n",
       " 'rindex',\n",
       " 'rjust',\n",
       " 'rpartition',\n",
       " 'rsplit',\n",
       " 'rstrip',\n",
       " 'split',\n",
       " 'splitlines',\n",
       " 'startswith',\n",
       " 'strip',\n",
       " 'swapcase',\n",
       " 'title',\n",
       " 'translate',\n",
       " 'upper',\n",
       " 'zfill']"
      ]
     },
     "execution_count": 186,
     "metadata": {},
     "output_type": "execute_result"
    }
   ],
   "source": [
    "dir (palavra)"
   ]
  },
  {
   "cell_type": "code",
   "execution_count": 190,
   "id": "2893f45b-a424-4179-99eb-03f753cac0a9",
   "metadata": {},
   "outputs": [
    {
     "data": {
      "text/plain": [
       "'CORINTHIANS'"
      ]
     },
     "execution_count": 190,
     "metadata": {},
     "output_type": "execute_result"
    }
   ],
   "source": [
    "palavra.upper()"
   ]
  },
  {
   "cell_type": "code",
   "execution_count": 192,
   "id": "e36d23f1-fbda-4d95-9bd8-68b8205c11d2",
   "metadata": {},
   "outputs": [
    {
     "name": "stdout",
     "output_type": "stream",
     "text": [
      "Help on built-in function ord in module builtins:\n",
      "\n",
      "ord(c, /)\n",
      "    Return the Unicode code point for a one-character string.\n",
      "\n"
     ]
    }
   ],
   "source": [
    "help(ord)"
   ]
  },
  {
   "cell_type": "code",
   "execution_count": null,
   "id": "a1d02b34-10aa-4b9e-b375-9925b2040d0f",
   "metadata": {},
   "outputs": [],
   "source": []
  }
 ],
 "metadata": {
  "kernelspec": {
   "display_name": "Python [conda env:base] *",
   "language": "python",
   "name": "conda-base-py"
  },
  "language_info": {
   "codemirror_mode": {
    "name": "ipython",
    "version": 3
   },
   "file_extension": ".py",
   "mimetype": "text/x-python",
   "name": "python",
   "nbconvert_exporter": "python",
   "pygments_lexer": "ipython3",
   "version": "3.12.7"
  }
 },
 "nbformat": 4,
 "nbformat_minor": 5
}
