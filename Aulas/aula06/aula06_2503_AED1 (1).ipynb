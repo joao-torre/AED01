{
 "cells": [
  {
   "cell_type": "markdown",
   "id": "1f944296-6e88-49b5-9f5e-334d77c9774b",
   "metadata": {},
   "source": [
    "# Comandos de entrada e saída"
   ]
  },
  {
   "cell_type": "code",
   "execution_count": 2,
   "id": "73a58ba8-4cf7-466c-b41a-fa2a3ec160a8",
   "metadata": {},
   "outputs": [],
   "source": [
    "nome = 'João Gabriel'\n",
    "idade = 18"
   ]
  },
  {
   "cell_type": "code",
   "execution_count": 4,
   "id": "aae0164c-a68c-41b4-a5c7-2e36079e5739",
   "metadata": {},
   "outputs": [
    {
     "name": "stdout",
     "output_type": "stream",
     "text": [
      "Gabriel tem 18 anos\n"
     ]
    }
   ],
   "source": [
    "print (nome, 'tem', idade, 'anos')"
   ]
  },
  {
   "cell_type": "code",
   "execution_count": null,
   "id": "4c161586-6881-4ef4-81ef-bba108785fb2",
   "metadata": {},
   "outputs": [],
   "source": [
    "nome = input('Digite seu nome:  ')"
   ]
  },
  {
   "cell_type": "code",
   "execution_count": 1,
   "id": "ce6eb2c3-9679-4f66-b9fa-a60e9b77d900",
   "metadata": {},
   "outputs": [
    {
     "name": "stdin",
     "output_type": "stream",
     "text": [
      "Digite sua idade:   18\n"
     ]
    }
   ],
   "source": [
    "idade = input('Digite sua idade:  ')\n"
   ]
  },
  {
   "cell_type": "code",
   "execution_count": 3,
   "id": "5c6db801-113c-4f7e-8f15-5ba020c40835",
   "metadata": {},
   "outputs": [
    {
     "name": "stdout",
     "output_type": "stream",
     "text": [
      "18\n"
     ]
    }
   ],
   "source": [
    "print(idade)"
   ]
  },
  {
   "cell_type": "code",
   "execution_count": 5,
   "id": "413a0d35-950a-4697-9e59-fb44c52ba88e",
   "metadata": {},
   "outputs": [
    {
     "data": {
      "text/plain": [
       "'18'"
      ]
     },
     "execution_count": 5,
     "metadata": {},
     "output_type": "execute_result"
    }
   ],
   "source": [
    "idade"
   ]
  },
  {
   "cell_type": "code",
   "execution_count": 7,
   "id": "b11975f2-8b50-482c-8f6e-56a025cb0b80",
   "metadata": {},
   "outputs": [],
   "source": [
    "idade = int(idade)"
   ]
  },
  {
   "cell_type": "code",
   "execution_count": 9,
   "id": "a4889829-f092-4a96-876b-93f54ae24b53",
   "metadata": {},
   "outputs": [
    {
     "data": {
      "text/plain": [
       "18"
      ]
     },
     "execution_count": 9,
     "metadata": {},
     "output_type": "execute_result"
    }
   ],
   "source": [
    "idade"
   ]
  },
  {
   "cell_type": "code",
   "execution_count": null,
   "id": "2b595444-b1aa-4c1a-aa8f-ec7b6933c50d",
   "metadata": {},
   "outputs": [],
   "source": []
  },
  {
   "cell_type": "code",
   "execution_count": 12,
   "id": "b847710d-e137-4c36-8f73-dcbae76d4157",
   "metadata": {},
   "outputs": [
    {
     "data": {
      "text/plain": [
       "int"
      ]
     },
     "execution_count": 12,
     "metadata": {},
     "output_type": "execute_result"
    }
   ],
   "source": [
    "type(idade)"
   ]
  },
  {
   "cell_type": "code",
   "execution_count": 21,
   "id": "f1903df4-244c-4dce-8ab7-9bfe593540ba",
   "metadata": {},
   "outputs": [
    {
     "name": "stdin",
     "output_type": "stream",
     "text": [
      "Digite sua idade:   18\n"
     ]
    }
   ],
   "source": [
    "idade = int(input(\"Digite sua idade:  \"))\n",
    "            "
   ]
  },
  {
   "cell_type": "code",
   "execution_count": 23,
   "id": "54481d7e-2843-488a-ba67-52d6c86b7f3f",
   "metadata": {},
   "outputs": [
    {
     "data": {
      "text/plain": [
       "int"
      ]
     },
     "execution_count": 23,
     "metadata": {},
     "output_type": "execute_result"
    }
   ],
   "source": [
    "type(idade)"
   ]
  },
  {
   "cell_type": "code",
   "execution_count": 25,
   "id": "ee7333e7-5eba-4990-a339-4ef56bea04b4",
   "metadata": {},
   "outputs": [],
   "source": [
    "idade = int(idade)"
   ]
  },
  {
   "cell_type": "code",
   "execution_count": 27,
   "id": "7aa5ba9c-bd74-4793-ac02-8cce549336ff",
   "metadata": {},
   "outputs": [
    {
     "data": {
      "text/plain": [
       "int"
      ]
     },
     "execution_count": 27,
     "metadata": {},
     "output_type": "execute_result"
    }
   ],
   "source": [
    "type(idade)"
   ]
  },
  {
   "cell_type": "code",
   "execution_count": 29,
   "id": "f132b9e3-a343-40cf-93f0-b084a4d496b1",
   "metadata": {},
   "outputs": [],
   "source": [
    "idade = str(idade)"
   ]
  },
  {
   "cell_type": "code",
   "execution_count": 31,
   "id": "bbe036e7-1f63-438d-92ca-898c95013101",
   "metadata": {},
   "outputs": [
    {
     "data": {
      "text/plain": [
       "'18'"
      ]
     },
     "execution_count": 31,
     "metadata": {},
     "output_type": "execute_result"
    }
   ],
   "source": [
    "idade"
   ]
  },
  {
   "cell_type": "code",
   "execution_count": 5,
   "id": "dc03e589-0cd8-49a3-bb6c-1dfe07ed7b24",
   "metadata": {},
   "outputs": [
    {
     "name": "stdin",
     "output_type": "stream",
     "text": [
      "Digite o lado maior:   5\n",
      "Digite o lado menor:   3\n"
     ]
    },
    {
     "name": "stdout",
     "output_type": "stream",
     "text": [
      "A área do quadriláteo é:   15.0\n"
     ]
    }
   ],
   "source": [
    "lado1 = float(input(\"Digite o lado maior:  \"))\n",
    "lado2 = float(input(\"Digite o lado menor:  \"))\n",
    "area = lado1 * lado2\n",
    "print(\"A área do quadriláteo é:  \", area)"
   ]
  },
  {
   "cell_type": "code",
   "execution_count": null,
   "id": "307f7a3a-16b5-448c-9fa6-79a8bab9dc2e",
   "metadata": {},
   "outputs": [],
   "source": []
  }
 ],
 "metadata": {
  "kernelspec": {
   "display_name": "Python [conda env:base] *",
   "language": "python",
   "name": "conda-base-py"
  },
  "language_info": {
   "codemirror_mode": {
    "name": "ipython",
    "version": 3
   },
   "file_extension": ".py",
   "mimetype": "text/x-python",
   "name": "python",
   "nbconvert_exporter": "python",
   "pygments_lexer": "ipython3",
   "version": "3.12.7"
  }
 },
 "nbformat": 4,
 "nbformat_minor": 5
}
