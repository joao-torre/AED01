{
 "cells": [
  {
   "cell_type": "code",
   "execution_count": 13,
   "id": "2f21eda6-ec3c-47d0-a1d4-3bccb0ef646f",
   "metadata": {},
   "outputs": [
    {
     "name": "stdin",
     "output_type": "stream",
     "text": [
      "Digite uma frase:  JJ\n"
     ]
    },
    {
     "name": "stdout",
     "output_type": "stream",
     "text": [
      "Frase normalizada: jj\n"
     ]
    }
   ],
   "source": [
    "# Exercício 1\n",
    "frase = input(\"Digite uma frase: \")\n",
    "\n",
    "frase = frase.lower().strip()\n",
    "frase = ' '.join(frase.split())  \n",
    "frase = frase.replace(' ', '_')\n",
    "\n",
    "print(\"Frase normalizada:\", frase)\n"
   ]
  },
  {
   "cell_type": "code",
   "execution_count": 11,
   "id": "f1ee3cac-9d7c-4732-8192-92ce5044a4fc",
   "metadata": {},
   "outputs": [
    {
     "name": "stdout",
     "output_type": "stream",
     "text": [
      "Vendas válidas: [120, 300, 200]\n",
      "Média das vendas: 206.66666666666666\n"
     ]
    }
   ],
   "source": [
    "# Exercício 2\n",
    "vendas = [120, 85, 300, 55, 200, 95]\n",
    "\n",
    "vendas_filtradas = [v for v in vendas if v >= 100]\n",
    "\n",
    "if vendas_filtradas:\n",
    "    media = sum(vendas_filtradas) / len(vendas_filtradas)\n",
    "    print(\"Vendas válidas:\", vendas_filtradas)\n",
    "    print(\"Média das vendas:\", media)\n",
    "else:\n",
    "    print(\"Nenhuma venda válida.\")\n"
   ]
  },
  {
   "cell_type": "code",
   "execution_count": 17,
   "id": "7dc07217-507b-4c3c-a605-cc44ecc2d210",
   "metadata": {},
   "outputs": [
    {
     "name": "stdin",
     "output_type": "stream",
     "text": [
      "Digite a coordenada x,y do ponto 1 (separado por vírgula):  9,9\n",
      "Digite a coordenada x,y do ponto 2 (separado por vírgula):  9,9\n",
      "Digite a coordenada x,y do ponto 3 (separado por vírgula):  9,9\n"
     ]
    },
    {
     "name": "stdout",
     "output_type": "stream",
     "text": [
      "Distâncias: 12.727922061357855 12.727922061357855 12.727922061357855\n",
      "Média das distâncias: 12.727922061357853\n"
     ]
    }
   ],
   "source": [
    "# Exercício 3\n",
    "import math\n",
    "\n",
    "p1 = tuple(map(float, input(\"Digite a coordenada x,y do ponto 1 (separado por vírgula): \").split(',')))\n",
    "p2 = tuple(map(float, input(\"Digite a coordenada x,y do ponto 2 (separado por vírgula): \").split(',')))\n",
    "p3 = tuple(map(float, input(\"Digite a coordenada x,y do ponto 3 (separado por vírgula): \").split(',')))\n",
    "\n",
    "def distancia(p):\n",
    "    return math.sqrt(p[0]**2 + p[1]**2)\n",
    "\n",
    "d1 = distancia(p1)\n",
    "d2 = distancia(p2)\n",
    "d3 = distancia(p3)\n",
    "\n",
    "media_distancia = (d1 + d2 + d3) / 3\n",
    "\n",
    "print(\"Distâncias:\", d1, d2, d3)\n",
    "print(\"Média das distâncias:\", media_distancia)\n"
   ]
  },
  {
   "cell_type": "code",
   "execution_count": null,
   "id": "76c5c8c2-2e02-4115-bb6d-2f71ca574f6c",
   "metadata": {},
   "outputs": [],
   "source": [
    "# Exercício 4\n",
    "frase = input(\"Digite uma frase: \")\n",
    "\n",
    "palavras = frase.lower().split()\n",
    "\n",
    "frequencia = {}\n",
    "\n",
    "for palavra in palavras:\n",
    "    if palavra in frequencia:\n",
    "        frequencia[palavra] += 1\n",
    "    else:\n",
    "        frequencia[palavra] = 1\n",
    "\n",
    "# Exibe os resultados\n",
    "for palavra, contagem in frequencia.items():\n",
    "    print(f\"'{palavra}': {contagem} vez(es)\")\n"
   ]
  }
 ],
 "metadata": {
  "kernelspec": {
   "display_name": "Python [conda env:base] *",
   "language": "python",
   "name": "conda-base-py"
  },
  "language_info": {
   "codemirror_mode": {
    "name": "ipython",
    "version": 3
   },
   "file_extension": ".py",
   "mimetype": "text/x-python",
   "name": "python",
   "nbconvert_exporter": "python",
   "pygments_lexer": "ipython3",
   "version": "3.12.7"
  }
 },
 "nbformat": 4,
 "nbformat_minor": 5
}
