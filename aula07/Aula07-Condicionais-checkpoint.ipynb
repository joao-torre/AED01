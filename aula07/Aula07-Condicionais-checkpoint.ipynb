{
 "cells": [
  {
   "cell_type": "markdown",
   "metadata": {},
   "source": [
    "![Algoritmos e Estrutura de Dados I](AED1_banner.jpg)"
   ]
  },
  {
   "cell_type": "markdown",
   "metadata": {},
   "source": [
    "## <font color='blue'>Algoritmos e Estrutura de Dados I</font>\n",
    "## <font color='blue'>Aula 7 -  Condicionais</font>"
   ]
  },
  {
   "cell_type": "code",
   "execution_count": 1,
   "metadata": {},
   "outputs": [
    {
     "name": "stdout",
     "output_type": "stream",
     "text": [
      "Versão da Linguagem Python Usada Neste Jupyter Notebook: 3.12.7\n"
     ]
    }
   ],
   "source": [
    "# Versão da Linguagem Python\n",
    "from platform import python_version\n",
    "print('Versão da Linguagem Python Usada Neste Jupyter Notebook:', python_version())"
   ]
  },
  {
   "cell_type": "markdown",
   "metadata": {},
   "source": [
    "## Condicional If"
   ]
  },
  {
   "cell_type": "code",
   "execution_count": 3,
   "metadata": {},
   "outputs": [
    {
     "name": "stdout",
     "output_type": "stream",
     "text": [
      "A sentença é verdadeira!\n"
     ]
    }
   ],
   "source": [
    "# Condicional If (Se)\n",
    "if 5 > 2:\n",
    "    print(\"A sentença é verdadeira!\")"
   ]
  },
  {
   "cell_type": "code",
   "execution_count": 5,
   "metadata": {},
   "outputs": [
    {
     "name": "stdout",
     "output_type": "stream",
     "text": [
      "A sentença é falsa!\n"
     ]
    }
   ],
   "source": [
    "# Condicional If...Else\n",
    "if 5 < 2:\n",
    "    print(\"A sentença é verdadeira!\")\n",
    "else:\n",
    "    print(\"A sentença é falsa!\")"
   ]
  },
  {
   "cell_type": "code",
   "execution_count": 7,
   "metadata": {},
   "outputs": [
    {
     "name": "stdout",
     "output_type": "stream",
     "text": [
      "Hoje vai chover!\n"
     ]
    }
   ],
   "source": [
    "# Condicional If...Else com variável\n",
    "dia = \"Terça\"\n",
    "if dia == \"Segunda\":\n",
    "    print(\"Hoje fará sol!\")\n",
    "else:\n",
    "    print(\"Hoje vai chover!\")"
   ]
  },
  {
   "cell_type": "code",
   "execution_count": 9,
   "metadata": {},
   "outputs": [
    {
     "name": "stdin",
     "output_type": "stream",
     "text": [
      "Qual do dia da semana:  5\n"
     ]
    },
    {
     "name": "stdout",
     "output_type": "stream",
     "text": [
      "Sem previsão do tempo para o dia selecionado\n"
     ]
    }
   ],
   "source": [
    "# Podemos usar o operador elif para validar mais de uma condição\n",
    "dia = input(\"Qual do dia da semana: \")\n",
    "if dia == \"Segunda\":\n",
    "    print(\"Hoje fará sol!\")\n",
    "elif dia == \"Terça\":\n",
    "    print(\"Hoje vai chover!\")\n",
    "else:\n",
    "    print(\"Sem previsão do tempo para o dia selecionado\")"
   ]
  },
  {
   "cell_type": "markdown",
   "metadata": {},
   "source": [
    "## Operadores Relacionais\n",
    "\n",
    "Retorna um valor booleano."
   ]
  },
  {
   "cell_type": "code",
   "execution_count": 17,
   "metadata": {},
   "outputs": [
    {
     "data": {
      "text/plain": [
       "True"
      ]
     },
     "execution_count": 17,
     "metadata": {},
     "output_type": "execute_result"
    }
   ],
   "source": [
    "6 > 3"
   ]
  },
  {
   "cell_type": "code",
   "execution_count": 19,
   "metadata": {},
   "outputs": [
    {
     "data": {
      "text/plain": [
       "False"
      ]
     },
     "execution_count": 19,
     "metadata": {},
     "output_type": "execute_result"
    }
   ],
   "source": [
    "3 > 7"
   ]
  },
  {
   "cell_type": "code",
   "execution_count": 21,
   "metadata": {},
   "outputs": [
    {
     "data": {
      "text/plain": [
       "True"
      ]
     },
     "execution_count": 21,
     "metadata": {},
     "output_type": "execute_result"
    }
   ],
   "source": [
    "4 < 8"
   ]
  },
  {
   "cell_type": "code",
   "execution_count": 23,
   "metadata": {},
   "outputs": [
    {
     "data": {
      "text/plain": [
       "True"
      ]
     },
     "execution_count": 23,
     "metadata": {},
     "output_type": "execute_result"
    }
   ],
   "source": [
    "4 >= 4"
   ]
  },
  {
   "cell_type": "code",
   "execution_count": 25,
   "metadata": {},
   "outputs": [
    {
     "data": {
      "text/plain": [
       "True"
      ]
     },
     "execution_count": 25,
     "metadata": {},
     "output_type": "execute_result"
    }
   ],
   "source": [
    "5 == 5"
   ]
  },
  {
   "cell_type": "code",
   "execution_count": 27,
   "metadata": {},
   "outputs": [
    {
     "name": "stdout",
     "output_type": "stream",
     "text": [
      "Testando Python!\n"
     ]
    }
   ],
   "source": [
    "if 5 == 5:\n",
    "    print(\"Testando Python!\")"
   ]
  },
  {
   "cell_type": "code",
   "execution_count": 29,
   "metadata": {},
   "outputs": [
    {
     "name": "stdout",
     "output_type": "stream",
     "text": [
      "Parece que Python funciona!\n"
     ]
    }
   ],
   "source": [
    "if True:\n",
    "    print('Parece que Python funciona!')"
   ]
  },
  {
   "cell_type": "code",
   "execution_count": 35,
   "metadata": {},
   "outputs": [
    {
     "name": "stdout",
     "output_type": "stream",
     "text": [
      "Tudo funciona!\n"
     ]
    }
   ],
   "source": [
    "# Atenção com a sintaxe\n",
    "if 4 > 3:\n",
    "    print(\"Tudo funciona!\")"
   ]
  },
  {
   "cell_type": "code",
   "execution_count": 39,
   "metadata": {},
   "outputs": [
    {
     "name": "stdout",
     "output_type": "stream",
     "text": [
      "Tudo funciona!\n"
     ]
    }
   ],
   "source": [
    "# Atenção com a sintaxe\n",
    "if 4 > 3:\n",
    "    print(\"Tudo funciona!\")"
   ]
  },
  {
   "cell_type": "markdown",
   "metadata": {},
   "source": [
    "#### --> Atenção aos espaços entre a margem e cada um dos seus comandos. \n",
    "#### --> Esses espaços são chamados de \"identação\".\n",
    "#### --> A indentação faz parte da sintaxe da linguagem Python e identifica os blocos de código"
   ]
  },
  {
   "cell_type": "markdown",
   "metadata": {},
   "source": [
    "## Condicionais Aninhados"
   ]
  },
  {
   "cell_type": "code",
   "execution_count": 73,
   "metadata": {},
   "outputs": [
    {
     "name": "stdout",
     "output_type": "stream",
     "text": [
      "Você pode dirigir!\n"
     ]
    }
   ],
   "source": [
    "idade = 18\n",
    "if idade > 17:\n",
    "    print(\"Você pode dirigir!\")"
   ]
  },
  {
   "cell_type": "code",
   "execution_count": 75,
   "metadata": {},
   "outputs": [
    {
     "name": "stdout",
     "output_type": "stream",
     "text": [
      "Ok Bob, você está autorizado a entrar!\n"
     ]
    }
   ],
   "source": [
    "Nome = \"Bob\"\n",
    "if idade > 13:\n",
    "    if Nome == \"Bob\":\n",
    "        print(\"Ok Bob, você está autorizado a entrar!\")\n",
    "    else:\n",
    "        print(\"Desculpe, mas você não pode entrar!\")"
   ]
  },
  {
   "cell_type": "code",
   "execution_count": 77,
   "metadata": {},
   "outputs": [
    {
     "name": "stdout",
     "output_type": "stream",
     "text": [
      "Ok Bob, você está autorizado a entrar!\n"
     ]
    }
   ],
   "source": [
    "idade = 13\n",
    "Nome = \"Bob\"\n",
    "if idade >= 13 and Nome == \"Bob\":\n",
    "    print(\"Ok Bob, você está autorizado a entrar!\")"
   ]
  },
  {
   "cell_type": "code",
   "execution_count": 79,
   "metadata": {},
   "outputs": [
    {
     "name": "stdout",
     "output_type": "stream",
     "text": [
      "Ok Bob, você está autorizado a entrar!\n"
     ]
    }
   ],
   "source": [
    "idade = 12\n",
    "Nome = \"Bob\"\n",
    "if (idade >= 13) or (Nome == \"Bob\"):\n",
    "    print(\"Ok Bob, você está autorizado a entrar!\")"
   ]
  },
  {
   "cell_type": "markdown",
   "metadata": {},
   "source": [
    "## Operadores Lógicos"
   ]
  },
  {
   "cell_type": "code",
   "execution_count": 82,
   "metadata": {},
   "outputs": [
    {
     "name": "stdout",
     "output_type": "stream",
     "text": [
      "Você pode dirigir!\n"
     ]
    }
   ],
   "source": [
    "idade = 18\n",
    "nome = \"Bob\"\n",
    "if idade > 17:\n",
    "    print(\"Você pode dirigir!\")"
   ]
  },
  {
   "cell_type": "code",
   "execution_count": 84,
   "metadata": {},
   "outputs": [
    {
     "name": "stdout",
     "output_type": "stream",
     "text": [
      "Autorizado!\n"
     ]
    }
   ],
   "source": [
    "idade = 18\n",
    "if idade > 17 and nome == \"Bob\":\n",
    "    print(\"Autorizado!\")"
   ]
  },
  {
   "cell_type": "markdown",
   "metadata": {},
   "source": [
    "Os operadores lógicos funcionam assim:\n",
    "\n",
    "- Operador **and** - Retorna True se ambas as declarações forem verdadeiras.\n",
    "- Operador **or** - Retorna True se uma das declarações for verdadeira.\n",
    "- Operador **not** - Inverte o resultado, retorna False se o resultado for True."
   ]
  },
  {
   "cell_type": "code",
   "execution_count": 57,
   "metadata": {},
   "outputs": [
    {
     "name": "stdout",
     "output_type": "stream",
     "text": [
      "Isso está sendo impresso porque as duas condições são verdadeiras!\n"
     ]
    }
   ],
   "source": [
    "# Operador and\n",
    "\n",
    "numero = 4\n",
    "\n",
    "if (numero > 2) and (numero % 2 == 0):\n",
    "    print(\"Isso está sendo impresso porque as duas condições são verdadeiras!\")"
   ]
  },
  {
   "cell_type": "code",
   "execution_count": 59,
   "metadata": {},
   "outputs": [
    {
     "name": "stdout",
     "output_type": "stream",
     "text": [
      "Isso está sendo impresso porque uma das duas condições é falsa!\n"
     ]
    }
   ],
   "source": [
    "# Operador and\n",
    "\n",
    "numero = 4\n",
    "\n",
    "if (numero > 5) and (numero % 2 == 0):\n",
    "    print(\"Isso está sendo impresso porque as duas condições são verdadeiras!\")\n",
    "else:\n",
    "    print(\"Isso está sendo impresso porque uma das duas condições é falsa!\")"
   ]
  },
  {
   "cell_type": "code",
   "execution_count": 61,
   "metadata": {},
   "outputs": [
    {
     "name": "stdout",
     "output_type": "stream",
     "text": [
      "Isso está sendo impresso porque uma duas condições é verdadeira!\n"
     ]
    }
   ],
   "source": [
    "# Operador or\n",
    "\n",
    "numero = 4\n",
    "\n",
    "if (numero > 5) or (numero % 2 == 0):\n",
    "    print(\"Isso está sendo impresso porque uma duas condições é verdadeira!\")"
   ]
  },
  {
   "cell_type": "code",
   "execution_count": 63,
   "metadata": {},
   "outputs": [
    {
     "name": "stdout",
     "output_type": "stream",
     "text": [
      "Isso está sendo impresso porque as duas condições são verdadeiras!\n"
     ]
    }
   ],
   "source": [
    "# Operador not\n",
    "\n",
    "numero = 4\n",
    "\n",
    "if not(numero > 5) and (numero % 2 == 0):\n",
    "    print(\"Isso está sendo impresso porque as duas condições são verdadeiras!\")\n",
    "else:\n",
    "    print(\"Isso está sendo impresso porque uma das duas condições é falsa!\")"
   ]
  },
  {
   "cell_type": "code",
   "execution_count": 65,
   "metadata": {},
   "outputs": [
    {
     "name": "stdout",
     "output_type": "stream",
     "text": [
      "Isso está sendo impresso porque as duas primeiras condições são verdadeiras ou a terceira é verdadeira!\n"
     ]
    }
   ],
   "source": [
    "# Operador and, or e not\n",
    "\n",
    "numero = 4\n",
    "\n",
    "if (not(numero > 5) and (numero % 2 == 0)) or (numero == 4):\n",
    "    print(\"Isso está sendo impresso porque as duas primeiras condições são verdadeiras ou a terceira é verdadeira!\")"
   ]
  },
  {
   "cell_type": "code",
   "execution_count": 67,
   "metadata": {},
   "outputs": [
    {
     "name": "stdout",
     "output_type": "stream",
     "text": [
      "Você foi aprovado!\n"
     ]
    }
   ],
   "source": [
    "# Exemplo com o uso de variáveis\n",
    "\n",
    "disciplina = 'Algoritmos'\n",
    "nota_final = 70\n",
    "\n",
    "if disciplina == 'Algoritmos' and nota_final >= 70:\n",
    "    print('Você foi aprovado!')\n",
    "else:\n",
    "    print('Lamento, acho que você precisa estudar mais!')"
   ]
  },
  {
   "cell_type": "code",
   "execution_count": 69,
   "metadata": {},
   "outputs": [
    {
     "name": "stdout",
     "output_type": "stream",
     "text": [
      "Lamento, acho que você precisa estudar mais!\n"
     ]
    }
   ],
   "source": [
    "# Usando mais de uma condição na cláusula if \n",
    "\n",
    "disciplina = 'Algoritmos'\n",
    "nota_final = 60\n",
    "\n",
    "if disciplina == 'Algoritmos' and nota_final >= 70:\n",
    "    print('Você foi aprovado!')\n",
    "else:\n",
    "    print('Lamento, acho que você precisa estudar mais!')"
   ]
  },
  {
   "cell_type": "code",
   "execution_count": 71,
   "metadata": {},
   "outputs": [
    {
     "name": "stdout",
     "output_type": "stream",
     "text": [
      "Lamento, acho que você precisa estudar mais!\n"
     ]
    }
   ],
   "source": [
    "# Usando mais de uma condição na cláusula if e introduzindo Placeholders\n",
    "\n",
    "disciplina = 'Algoritmos'\n",
    "nota_final = 90\n",
    "semestre = 1\n",
    "\n",
    "if disciplina == 'Data Science' and nota_final >= 80 and semestre != 2:\n",
    "    print('Você foi aprovado em %s com média final %r!' %(disciplina, nota_final))\n",
    "else:\n",
    "    print('Lamento, acho que você precisa estudar mais!')"
   ]
  },
  {
   "cell_type": "markdown",
   "metadata": {},
   "source": [
    "----------\n",
    "## Exercícios"
   ]
  },
  {
   "cell_type": "markdown",
   "metadata": {},
   "source": [
    "1. Faça um Programa que peça dois números e imprima o maior deles."
   ]
  },
  {
   "cell_type": "code",
   "execution_count": 88,
   "metadata": {},
   "outputs": [
    {
     "name": "stdin",
     "output_type": "stream",
     "text": [
      "Digite o primeiro número:  6\n",
      "Digite o segundo número:  6\n"
     ]
    },
    {
     "name": "stdout",
     "output_type": "stream",
     "text": [
      "Os dois números são iguais.\n"
     ]
    }
   ],
   "source": [
    "numero1 = int(input(\"Digite o primeiro número: \"))\n",
    "numero2 = int(input(\"Digite o segundo número: \"))\n",
    "\n",
    "# Verificar qual número é maior\n",
    "if numero1 > numero2:\n",
    "    print(f\"O maior número é: {numero1}\")\n",
    "elif numero2 > numero1:\n",
    "    print(f\"O maior número é: {numero2}\")\n",
    "else:\n",
    "    print(\"Os dois números são iguais.\")\n"
   ]
  },
  {
   "cell_type": "markdown",
   "metadata": {},
   "source": [
    "2. Faça um Programa que verifique se uma letra digitada é vogal ou consoante."
   ]
  },
  {
   "cell_type": "code",
   "execution_count": 1,
   "metadata": {},
   "outputs": [
    {
     "name": "stdin",
     "output_type": "stream",
     "text": [
      "Digite uma letra:  99\n"
     ]
    },
    {
     "name": "stdout",
     "output_type": "stream",
     "text": [
      "A letra 99 e uma consoante\n"
     ]
    }
   ],
   "source": [
    "letra = input(\"Digite uma letra: \")\n",
    "\n",
    "if letra in \"aeiou\":\n",
    "    print(f\"A letra {letra}, que voce digitou é uma vogal\")\n",
    "else:\n",
    "    print(f\"A letra {letra} e uma consoante\")\n",
    "\n"
   ]
  },
  {
   "cell_type": "markdown",
   "metadata": {},
   "source": [
    "3. Faça um programa que receba a idade de um nadador e mostre a sua categoria usando as regras a seguir:\n",
    "\n",
    "Categoria_______Idade\n",
    "\n",
    "Infantil___________5 a 7\n",
    "\n",
    "Juvenil___________8 a 10\n",
    "\n",
    "Adolescente_____11 a 15\n",
    "\n",
    "Adulto___________16 a 30\n",
    "\n",
    "Sênior____________Acima de 30\n"
   ]
  },
  {
   "cell_type": "code",
   "execution_count": null,
   "metadata": {},
   "outputs": [],
   "source": []
  },
  {
   "cell_type": "markdown",
   "metadata": {},
   "source": [
    "4. Faça um Programa que peça os 3 lados de um triângulo. O programa deverá informar se os valores podem ser um triângulo. Indique, caso os lados formem um triângulo, se o mesmo é: equilátero, isósceles ou escaleno.\n",
    "Dicas:\n",
    "- Três lados formam um triângulo quando a soma de quaisquer dois lados for maior que o terceiro;\n",
    "- Triângulo Equilátero: três lados iguais;\n",
    "- Triângulo Isósceles: quaisquer dois lados iguais;\n",
    "- Triângulo Escaleno: três lados diferentes;"
   ]
  },
  {
   "cell_type": "code",
   "execution_count": 48,
   "metadata": {},
   "outputs": [
    {
     "name": "stdin",
     "output_type": "stream",
     "text": [
      "digite o lado A:  9\n",
      "digite o lado B:  6\n",
      "digite o lado C:  9\n"
     ]
    },
    {
     "name": "stdout",
     "output_type": "stream",
     "text": [
      "é um triangulo isósceles\n"
     ]
    }
   ],
   "source": [
    "a = float(input(\"digite o lado A: \"))\n",
    "b = float(input(\"digite o lado B: \"))\n",
    "c = float(input(\"digite o lado C: \"))\n",
    "\n",
    "if (a+b>c) and (b+c>a) and (a+c>b):\n",
    "\n",
    "    if (a == b == c):\n",
    "        print(\"é um triangulo equilatero\")\n",
    "    elif (a == b) or (b == c) or (a == c):\n",
    "        print(\"é um triangulo isósceles\")\n",
    "    else:\n",
    "        print(\"é um triangulo escaleno\")\n",
    "else:\n",
    "    print (\"não é um triangulo\")\n",
    "    \n",
    "\n",
    "\n"
   ]
  },
  {
   "cell_type": "markdown",
   "metadata": {},
   "source": [
    "5. Faça um programa que calcule as raízes de uma equação do segundo grau, na forma ax2 + bx + c. O programa deverá pedir os valores de a, b e c e fazer as consistências, informando ao usuário nas seguintes situações:\n",
    "- Se o usuário informar o valor de a igual a zero, a equação não é do segundo grau e o programa não deve fazer pedir os demais valores, sendo encerrado;\n",
    "- Se o delta calculado for negativo, a equação não possui raízes reais. Informe ao usuário e encerre o programa;\n",
    "- Se o delta calculado for igual a zero a equação possui apenas uma raiz real; informe-a ao usuário;\n",
    "- Se o delta for positivo, a equação possui duas raiz reais; informe-as ao usuário;\n"
   ]
  },
  {
   "cell_type": "code",
   "execution_count": 9,
   "metadata": {},
   "outputs": [
    {
     "name": "stdin",
     "output_type": "stream",
     "text": [
      "Informe o valor de a:  999\n",
      "Informe o valor de b:  999\n",
      "Informe o valor de c:  00\n"
     ]
    },
    {
     "name": "stdout",
     "output_type": "stream",
     "text": [
      "A equação possui duas raízes reais: 0.0 e -1.0\n"
     ]
    }
   ],
   "source": [
    "import math\n",
    "\n",
    "# Função para calcular as raízes da equação do segundo grau\n",
    "def calcular_raizes():\n",
    "    # Solicita o valor de a\n",
    "    a = float(input(\"Informe o valor de a: \"))\n",
    "    \n",
    "    # Se 'a' for igual a zero, a equação não é do segundo grau\n",
    "    if a == 0:\n",
    "        print(\"A equação não é do segundo grau (a não pode ser zero).\")\n",
    "        return\n",
    "\n",
    "    # Solicita o valor de b e c\n",
    "    b = float(input(\"Informe o valor de b: \"))\n",
    "    c = float(input(\"Informe o valor de c: \"))\n",
    "    \n",
    "    # Calcula o valor do delta\n",
    "    delta = b**2 - 4 * a * c\n",
    "    \n",
    "    # Se o delta for negativo, não há raízes reais\n",
    "    if delta < 0:\n",
    "        print(\"A equação não possui raízes reais.\")\n",
    "    \n",
    "    # Se o delta for igual a zero, há uma única raiz real\n",
    "    elif delta == 0:\n",
    "        raiz = -b / (2 * a)\n",
    "        print(f\"A equação possui uma raiz real: {raiz}\")\n",
    "    \n",
    "    # Se o delta for positivo, há duas raízes reais\n",
    "    else:\n",
    "        raiz1 = (-b + math.sqrt(delta)) / (2 * a)\n",
    "        raiz2 = (-b - math.sqrt(delta)) / (2 * a)\n",
    "        print(f\"A equação possui duas raízes reais: {raiz1} e {raiz2}\")\n",
    "\n",
    "# Chama a função para calcular as raízes\n",
    "calcular_raizes()\n"
   ]
  },
  {
   "cell_type": "code",
   "execution_count": 39,
   "metadata": {},
   "outputs": [
    {
     "name": "stdin",
     "output_type": "stream",
     "text": [
      "Entre com valor a:  999\n",
      "Entre com valor b:  999\n",
      "Entre com valor c:  00\n"
     ]
    },
    {
     "name": "stdout",
     "output_type": "stream",
     "text": [
      "possui 2 raizes\n",
      "x1= 0.0\n",
      "x2= -1.0\n"
     ]
    }
   ],
   "source": [
    "import math\n",
    "\n",
    "a = float(input(\"Entre com valor a: \"))\n",
    "b = float(input(\"Entre com valor b: \"))\n",
    "c = float(input(\"Entre com valor c: \"))\n",
    "\n",
    "delta=(b**2)-(4*a*c)\n",
    "\n",
    "if a == 0:\n",
    "    print(\"Não é uma equação de 2° grau\")\n",
    "    \n",
    "else:\n",
    "    if delta<0:\n",
    "        print(\"Nâo possui raizes reais\")\n",
    "                    \n",
    "    else:  \n",
    "        if delta == 0:\n",
    "            x1=-b/(2*a)\n",
    "            print(\"Só tem uma raiz x1= \",x1) \n",
    "                       \n",
    "        else:\n",
    "            x1=(-b+math.sqrt(delta))/(2*a)\n",
    "            x2=(-b-math.sqrt(delta))/(2*a)\n",
    "            print(\"possui 2 raizes\")\n",
    "            print(\"x1=\",x1)\n",
    "            print(\"x2=\",x2)"
   ]
  },
  {
   "cell_type": "markdown",
   "metadata": {},
   "source": [
    "## Fim da Aula 7"
   ]
  },
  {
   "cell_type": "code",
   "execution_count": null,
   "metadata": {},
   "outputs": [],
   "source": []
  }
 ],
 "metadata": {
  "kernelspec": {
   "display_name": "Python [conda env:base] *",
   "language": "python",
   "name": "conda-base-py"
  },
  "language_info": {
   "codemirror_mode": {
    "name": "ipython",
    "version": 3
   },
   "file_extension": ".py",
   "mimetype": "text/x-python",
   "name": "python",
   "nbconvert_exporter": "python",
   "pygments_lexer": "ipython3",
   "version": "3.12.7"
  }
 },
 "nbformat": 4,
 "nbformat_minor": 4
}
