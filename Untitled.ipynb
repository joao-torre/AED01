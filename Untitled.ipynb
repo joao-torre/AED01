{
 "cells": [
  {
   "cell_type": "code",
   "execution_count": 1,
   "id": "421c7de1-476d-4b2e-a1bd-5bd099f9f284",
   "metadata": {},
   "outputs": [],
   "source": [
    "##PARTE 1 CONDICIONAIS"
   ]
  },
  {
   "cell_type": "code",
   "execution_count": null,
   "id": "030d8f2c-65d8-4821-9aa2-6c57cdb05e2c",
   "metadata": {},
   "outputs": [],
   "source": [
    "##0\n",
    "n = int(input(\"Digite um número: \"))\n",
    "\n",
    "if n > 0:\n",
    "    print(\"Positivo\")\n",
    "elif n < 0:\n",
    "    print(\"Negativo\")\n",
    "else:\n",
    "    print(\"Zero\")\n"
   ]
  },
  {
   "cell_type": "code",
   "execution_count": null,
   "id": "83a9e4db-e22b-4d6c-b21d-812ac4662a2f",
   "metadata": {},
   "outputs": [],
   "source": [
    "##1\n",
    "n = int(input(\"Digite um número: \"))\n",
    "\n",
    "if n % 2 == 0:\n",
    "    print(\"Par\")\n",
    "else:\n",
    "    print(\"Ímpar\")\n"
   ]
  },
  {
   "cell_type": "code",
   "execution_count": null,
   "id": "02e7b7de-a48b-4516-9688-4720d088f4ca",
   "metadata": {},
   "outputs": [],
   "source": [
    "##2\n",
    "a = int(input(\"Digite o primeiro número: \"))\n",
    "b = int(input(\"Digite o segundo número: \"))\n",
    "\n",
    "if a > b:\n",
    "    print(\"Maior:\", a)\n",
    "elif b > a:\n",
    "    print(\"Maior:\", b)\n",
    "else:\n",
    "    print(\"Números iguais\")\n"
   ]
  },
  {
   "cell_type": "code",
   "execution_count": null,
   "id": "5b2bdffb-0272-404b-b9a5-76919f701d2b",
   "metadata": {},
   "outputs": [],
   "source": [
    "##3\n",
    "n = int(input(\"Digite um número: \"))\n",
    "\n",
    "if 10 <= n <= 50:\n",
    "    print(\"Dentro do intervalo\")\n",
    "else:\n",
    "    print(\"Fora do intervalo\")\n"
   ]
  },
  {
   "cell_type": "code",
   "execution_count": null,
   "id": "034b5599-1a5b-429d-b647-26981366634a",
   "metadata": {},
   "outputs": [],
   "source": [
    "##4a = float(input(\"Lado 1: \"))\n",
    "b = float(input(\"Lado 2: \"))\n",
    "c = float(input(\"Lado 3: \"))\n",
    "\n",
    "if a + b > c and a + c > b and b + c > a:\n",
    "    print(\"Forma um triângulo\")\n",
    "else:\n",
    "    print(\"Não forma um triângulo\")\n"
   ]
  },
  {
   "cell_type": "code",
   "execution_count": null,
   "id": "e8036cf8-cc5e-4a14-9546-2f0c98cc1875",
   "metadata": {},
   "outputs": [],
   "source": [
    "##5\n",
    "idade = int(input(\"Digite sua idade: \"))\n",
    "\n",
    "if idade < 12:\n",
    "    print(\"Criança\")\n",
    "elif idade < 18:\n",
    "    print(\"Adolescente\")\n",
    "else:\n",
    "    print(\"Adulto\")\n"
   ]
  },
  {
   "cell_type": "code",
   "execution_count": null,
   "id": "c8cd9ea7-af69-4eed-9a79-6b2c9417fb31",
   "metadata": {},
   "outputs": [],
   "source": [
    "##6\n",
    "n = int(input(\"Digite um número: \"))\n",
    "\n",
    "if n % 3 == 0 and n % 5 == 0:\n",
    "    print(\"Múltiplo de 3 e 5\")\n",
    "elif n % 3 == 0:\n",
    "    print(\"Múltiplo de 3\")\n",
    "elif n % 5 == 0:\n",
    "    print(\"Múltiplo de 5\")\n",
    "else:\n",
    "    print(\"Não é múltiplo de 3 nem de 5\")\n"
   ]
  },
  {
   "cell_type": "code",
   "execution_count": null,
   "id": "a025f9bc-eada-42d0-a029-3f068374bf88",
   "metadata": {},
   "outputs": [],
   "source": [
    "##7\n",
    "ano = int(input(\"Digite o ano: \"))\n",
    "\n",
    "if (ano % 4 == 0 and ano % 100 != 0) or (ano % 400 == 0):\n",
    "    print(\"Ano bissexto\")\n",
    "else:\n",
    "    print(\"Não é ano bissexto\")\n"
   ]
  },
  {
   "cell_type": "code",
   "execution_count": null,
   "id": "b44c3fc5-f994-4cf9-bd1c-f93de3d805e2",
   "metadata": {},
   "outputs": [],
   "source": [
    "##8\n",
    "n1 = float(input(\"Nota 1: \"))\n",
    "n2 = float(input(\"Nota 2: \"))\n",
    "media = (n1 + n2) / 2\n",
    "\n",
    "if media >= 6:\n",
    "    print(\"Aprovado\")\n",
    "else:\n",
    "    print(\"Reprovado\")\n"
   ]
  },
  {
   "cell_type": "code",
   "execution_count": null,
   "id": "b9b44d3b-0031-4323-9ee2-643ed237ee24",
   "metadata": {},
   "outputs": [],
   "source": [
    "##9\n"
   ]
  }
 ],
 "metadata": {
  "kernelspec": {
   "display_name": "Python [conda env:base] *",
   "language": "python",
   "name": "conda-base-py"
  },
  "language_info": {
   "codemirror_mode": {
    "name": "ipython",
    "version": 3
   },
   "file_extension": ".py",
   "mimetype": "text/x-python",
   "name": "python",
   "nbconvert_exporter": "python",
   "pygments_lexer": "ipython3",
   "version": "3.12.7"
  }
 },
 "nbformat": 4,
 "nbformat_minor": 5
}
